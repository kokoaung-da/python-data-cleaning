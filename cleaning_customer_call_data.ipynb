{
 "cells": [
  {
   "cell_type": "code",
   "execution_count": 271,
   "id": "c5c6df86",
   "metadata": {},
   "outputs": [],
   "source": [
    "import pandas as pd\n",
    "import numpy as np\n",
    "import warnings\n",
    "warnings.filterwarnings('ignore')"
   ]
  },
  {
   "cell_type": "markdown",
   "id": "b103cc59",
   "metadata": {},
   "source": [
    "#### **Reading Data**"
   ]
  },
  {
   "cell_type": "code",
   "execution_count": 272,
   "id": "6574543a",
   "metadata": {},
   "outputs": [],
   "source": [
    "file_path = r'D:\\PayMe\\KOKO AUNG\\practiceProject\\Dataset\\26_7_25_customer _call_list.xlsx'"
   ]
  },
  {
   "cell_type": "code",
   "execution_count": 273,
   "id": "ca7480e9",
   "metadata": {},
   "outputs": [],
   "source": [
    "data = pd.read_excel(file_path)\n",
    "df = pd.DataFrame(data)"
   ]
  },
  {
   "cell_type": "markdown",
   "id": "4ee9615a",
   "metadata": {},
   "source": [
    "#### **Dataset Overview**"
   ]
  },
  {
   "cell_type": "code",
   "execution_count": 274,
   "id": "7f8b4e34",
   "metadata": {},
   "outputs": [
    {
     "name": "stdout",
     "output_type": "stream",
     "text": [
      "The dataset shape: (21, 8)\n",
      "\n",
      "The nummber of rows(records): 21\n",
      "\n",
      "The number of columns(features): 8\n",
      "\n",
      "The dataset info:\n",
      "\n",
      "<class 'pandas.core.frame.DataFrame'>\n",
      "RangeIndex: 21 entries, 0 to 20\n",
      "Data columns (total 8 columns):\n",
      " #   Column             Non-Null Count  Dtype \n",
      "---  ------             --------------  ----- \n",
      " 0   CustomerID         21 non-null     int64 \n",
      " 1   First_Name         21 non-null     object\n",
      " 2   Last_Name          20 non-null     object\n",
      " 3   Phone_Number       19 non-null     object\n",
      " 4   Address            21 non-null     object\n",
      " 5   Paying Customer    21 non-null     object\n",
      " 6   Do_Not_Contact     17 non-null     object\n",
      " 7   Not_Useful_Column  21 non-null     bool  \n",
      "dtypes: bool(1), int64(1), object(6)\n",
      "memory usage: 1.3+ KB\n",
      "None\n",
      "\n",
      "The first 5 rows:\n"
     ]
    },
    {
     "data": {
      "text/html": [
       "<div>\n",
       "<style scoped>\n",
       "    .dataframe tbody tr th:only-of-type {\n",
       "        vertical-align: middle;\n",
       "    }\n",
       "\n",
       "    .dataframe tbody tr th {\n",
       "        vertical-align: top;\n",
       "    }\n",
       "\n",
       "    .dataframe thead th {\n",
       "        text-align: right;\n",
       "    }\n",
       "</style>\n",
       "<table border=\"1\" class=\"dataframe\">\n",
       "  <thead>\n",
       "    <tr style=\"text-align: right;\">\n",
       "      <th></th>\n",
       "      <th>CustomerID</th>\n",
       "      <th>First_Name</th>\n",
       "      <th>Last_Name</th>\n",
       "      <th>Phone_Number</th>\n",
       "      <th>Address</th>\n",
       "      <th>Paying Customer</th>\n",
       "      <th>Do_Not_Contact</th>\n",
       "      <th>Not_Useful_Column</th>\n",
       "    </tr>\n",
       "  </thead>\n",
       "  <tbody>\n",
       "    <tr>\n",
       "      <th>0</th>\n",
       "      <td>1001</td>\n",
       "      <td>Frodo</td>\n",
       "      <td>Baggins</td>\n",
       "      <td>123-545-5421</td>\n",
       "      <td>123 Shire Lane, Shire</td>\n",
       "      <td>Yes</td>\n",
       "      <td>No</td>\n",
       "      <td>True</td>\n",
       "    </tr>\n",
       "    <tr>\n",
       "      <th>1</th>\n",
       "      <td>1002</td>\n",
       "      <td>Abed</td>\n",
       "      <td>Nadir</td>\n",
       "      <td>123/643/9775</td>\n",
       "      <td>93 West Main Street</td>\n",
       "      <td>No</td>\n",
       "      <td>Yes</td>\n",
       "      <td>False</td>\n",
       "    </tr>\n",
       "    <tr>\n",
       "      <th>2</th>\n",
       "      <td>1003</td>\n",
       "      <td>Walter</td>\n",
       "      <td>/White</td>\n",
       "      <td>7066950392</td>\n",
       "      <td>298 Drugs Driveway</td>\n",
       "      <td>N</td>\n",
       "      <td>NaN</td>\n",
       "      <td>True</td>\n",
       "    </tr>\n",
       "    <tr>\n",
       "      <th>3</th>\n",
       "      <td>1004</td>\n",
       "      <td>Dwight</td>\n",
       "      <td>Schrute</td>\n",
       "      <td>123-543-2345</td>\n",
       "      <td>980 Paper Avenue, Pennsylvania, 18503</td>\n",
       "      <td>Yes</td>\n",
       "      <td>Y</td>\n",
       "      <td>True</td>\n",
       "    </tr>\n",
       "    <tr>\n",
       "      <th>4</th>\n",
       "      <td>1005</td>\n",
       "      <td>Jon</td>\n",
       "      <td>Snow</td>\n",
       "      <td>876|678|3469</td>\n",
       "      <td>123 Dragons Road</td>\n",
       "      <td>Y</td>\n",
       "      <td>No</td>\n",
       "      <td>True</td>\n",
       "    </tr>\n",
       "  </tbody>\n",
       "</table>\n",
       "</div>"
      ],
      "text/plain": [
       "   CustomerID First_Name Last_Name  Phone_Number  \\\n",
       "0        1001      Frodo   Baggins  123-545-5421   \n",
       "1        1002       Abed     Nadir  123/643/9775   \n",
       "2        1003     Walter    /White    7066950392   \n",
       "3        1004     Dwight   Schrute  123-543-2345   \n",
       "4        1005        Jon      Snow  876|678|3469   \n",
       "\n",
       "                                 Address Paying Customer Do_Not_Contact  \\\n",
       "0                  123 Shire Lane, Shire             Yes             No   \n",
       "1                    93 West Main Street              No            Yes   \n",
       "2                     298 Drugs Driveway               N            NaN   \n",
       "3  980 Paper Avenue, Pennsylvania, 18503             Yes              Y   \n",
       "4                       123 Dragons Road               Y             No   \n",
       "\n",
       "   Not_Useful_Column  \n",
       "0               True  \n",
       "1              False  \n",
       "2               True  \n",
       "3               True  \n",
       "4               True  "
      ]
     },
     "metadata": {},
     "output_type": "display_data"
    }
   ],
   "source": [
    "print(f\"The dataset shape: {df.shape}\\n\")\n",
    "print(f\"The nummber of rows(records): {df.shape[0]}\\n\")\n",
    "print(f\"The number of columns(features): {df.shape[1]}\\n\")\n",
    "print(\"The dataset info:\\n\")\n",
    "print(df.info())\n",
    "print(\"\\nThe first 5 rows:\")\n",
    "display(df.head())"
   ]
  },
  {
   "cell_type": "markdown",
   "id": "dcb81eb7",
   "metadata": {},
   "source": [
    "#### **Missing Values**"
   ]
  },
  {
   "cell_type": "code",
   "execution_count": 275,
   "id": "dead39af",
   "metadata": {},
   "outputs": [
    {
     "name": "stdout",
     "output_type": "stream",
     "text": [
      "Missing values summary:\n",
      "\n",
      "                Missing Count  Missing Percent\n",
      "Do_Not_Contact              4            19.05\n",
      "Phone_Number                2             9.52\n",
      "Last_Name                   1             4.76\n"
     ]
    }
   ],
   "source": [
    "missing_data = df.isna().sum()\n",
    "missing_percent = df.isna().mean().mul(100).round(2)\n",
    "missing_df = pd.DataFrame({'Missing Count': missing_data, 'Missing Percent': missing_percent}).sort_values(by= 'Missing Count', ascending=False)\n",
    "print(\"Missing values summary:\\n\")\n",
    "print(missing_df[missing_df['Missing Count']> 0])"
   ]
  },
  {
   "cell_type": "markdown",
   "id": "3abf496f",
   "metadata": {},
   "source": [
    "#### **Duplicated Records**"
   ]
  },
  {
   "cell_type": "code",
   "execution_count": 276,
   "id": "dfb1f942",
   "metadata": {},
   "outputs": [
    {
     "name": "stdout",
     "output_type": "stream",
     "text": [
      "\n",
      "Have duplicates?: True\n",
      "Duplicates count: 1\n",
      "\n",
      "Duplicated records:\n"
     ]
    },
    {
     "data": {
      "text/html": [
       "<div>\n",
       "<style scoped>\n",
       "    .dataframe tbody tr th:only-of-type {\n",
       "        vertical-align: middle;\n",
       "    }\n",
       "\n",
       "    .dataframe tbody tr th {\n",
       "        vertical-align: top;\n",
       "    }\n",
       "\n",
       "    .dataframe thead th {\n",
       "        text-align: right;\n",
       "    }\n",
       "</style>\n",
       "<table border=\"1\" class=\"dataframe\">\n",
       "  <thead>\n",
       "    <tr style=\"text-align: right;\">\n",
       "      <th></th>\n",
       "      <th>CustomerID</th>\n",
       "      <th>First_Name</th>\n",
       "      <th>Last_Name</th>\n",
       "      <th>Phone_Number</th>\n",
       "      <th>Address</th>\n",
       "      <th>Paying Customer</th>\n",
       "      <th>Do_Not_Contact</th>\n",
       "      <th>Not_Useful_Column</th>\n",
       "    </tr>\n",
       "  </thead>\n",
       "  <tbody>\n",
       "    <tr>\n",
       "      <th>19</th>\n",
       "      <td>1020</td>\n",
       "      <td>Anakin</td>\n",
       "      <td>Skywalker</td>\n",
       "      <td>876|678|3469</td>\n",
       "      <td>910 Tatooine Road, Tatooine</td>\n",
       "      <td>Yes</td>\n",
       "      <td>N</td>\n",
       "      <td>True</td>\n",
       "    </tr>\n",
       "    <tr>\n",
       "      <th>20</th>\n",
       "      <td>1020</td>\n",
       "      <td>Anakin</td>\n",
       "      <td>Skywalker</td>\n",
       "      <td>876|678|3469</td>\n",
       "      <td>910 Tatooine Road, Tatooine</td>\n",
       "      <td>Yes</td>\n",
       "      <td>N</td>\n",
       "      <td>True</td>\n",
       "    </tr>\n",
       "  </tbody>\n",
       "</table>\n",
       "</div>"
      ],
      "text/plain": [
       "    CustomerID First_Name  Last_Name  Phone_Number  \\\n",
       "19        1020     Anakin  Skywalker  876|678|3469   \n",
       "20        1020     Anakin  Skywalker  876|678|3469   \n",
       "\n",
       "                        Address Paying Customer Do_Not_Contact  \\\n",
       "19  910 Tatooine Road, Tatooine             Yes              N   \n",
       "20  910 Tatooine Road, Tatooine             Yes              N   \n",
       "\n",
       "    Not_Useful_Column  \n",
       "19               True  \n",
       "20               True  "
      ]
     },
     "metadata": {},
     "output_type": "display_data"
    }
   ],
   "source": [
    "print(f\"\\nHave duplicates?: {df.duplicated().any()}\")\n",
    "print(f\"Duplicates count: {df.duplicated().sum()}\\n\")\n",
    "print(f\"Duplicated records:\")\n",
    "display(df[df.duplicated(keep=False)])"
   ]
  },
  {
   "cell_type": "code",
   "execution_count": 277,
   "id": "b79c9721",
   "metadata": {},
   "outputs": [
    {
     "name": "stdout",
     "output_type": "stream",
     "text": [
      "Duplicates: 0\n"
     ]
    }
   ],
   "source": [
    "df.drop_duplicates(inplace=True)\n",
    "print(f\"Duplicates: {df.duplicated().sum()}\")"
   ]
  },
  {
   "cell_type": "markdown",
   "id": "63a1ef11",
   "metadata": {},
   "source": [
    "#### **Data Cleaning**"
   ]
  },
  {
   "cell_type": "code",
   "execution_count": 278,
   "id": "c05cc127",
   "metadata": {},
   "outputs": [
    {
     "data": {
      "text/html": [
       "<div>\n",
       "<style scoped>\n",
       "    .dataframe tbody tr th:only-of-type {\n",
       "        vertical-align: middle;\n",
       "    }\n",
       "\n",
       "    .dataframe tbody tr th {\n",
       "        vertical-align: top;\n",
       "    }\n",
       "\n",
       "    .dataframe thead th {\n",
       "        text-align: right;\n",
       "    }\n",
       "</style>\n",
       "<table border=\"1\" class=\"dataframe\">\n",
       "  <thead>\n",
       "    <tr style=\"text-align: right;\">\n",
       "      <th></th>\n",
       "      <th>CustomerID</th>\n",
       "      <th>First_Name</th>\n",
       "      <th>Last_Name</th>\n",
       "      <th>Phone_Number</th>\n",
       "      <th>Address</th>\n",
       "      <th>Paying Customer</th>\n",
       "      <th>Do_Not_Contact</th>\n",
       "      <th>Not_Useful_Column</th>\n",
       "    </tr>\n",
       "  </thead>\n",
       "  <tbody>\n",
       "    <tr>\n",
       "      <th>0</th>\n",
       "      <td>1001</td>\n",
       "      <td>Frodo</td>\n",
       "      <td>Baggins</td>\n",
       "      <td>123-545-5421</td>\n",
       "      <td>123 Shire Lane, Shire</td>\n",
       "      <td>Yes</td>\n",
       "      <td>No</td>\n",
       "      <td>True</td>\n",
       "    </tr>\n",
       "    <tr>\n",
       "      <th>1</th>\n",
       "      <td>1002</td>\n",
       "      <td>Abed</td>\n",
       "      <td>Nadir</td>\n",
       "      <td>123/643/9775</td>\n",
       "      <td>93 West Main Street</td>\n",
       "      <td>No</td>\n",
       "      <td>Yes</td>\n",
       "      <td>False</td>\n",
       "    </tr>\n",
       "    <tr>\n",
       "      <th>2</th>\n",
       "      <td>1003</td>\n",
       "      <td>Walter</td>\n",
       "      <td>/White</td>\n",
       "      <td>7066950392</td>\n",
       "      <td>298 Drugs Driveway</td>\n",
       "      <td>N</td>\n",
       "      <td>NaN</td>\n",
       "      <td>True</td>\n",
       "    </tr>\n",
       "    <tr>\n",
       "      <th>3</th>\n",
       "      <td>1004</td>\n",
       "      <td>Dwight</td>\n",
       "      <td>Schrute</td>\n",
       "      <td>123-543-2345</td>\n",
       "      <td>980 Paper Avenue, Pennsylvania, 18503</td>\n",
       "      <td>Yes</td>\n",
       "      <td>Y</td>\n",
       "      <td>True</td>\n",
       "    </tr>\n",
       "    <tr>\n",
       "      <th>4</th>\n",
       "      <td>1005</td>\n",
       "      <td>Jon</td>\n",
       "      <td>Snow</td>\n",
       "      <td>876|678|3469</td>\n",
       "      <td>123 Dragons Road</td>\n",
       "      <td>Y</td>\n",
       "      <td>No</td>\n",
       "      <td>True</td>\n",
       "    </tr>\n",
       "  </tbody>\n",
       "</table>\n",
       "</div>"
      ],
      "text/plain": [
       "   CustomerID First_Name Last_Name  Phone_Number  \\\n",
       "0        1001      Frodo   Baggins  123-545-5421   \n",
       "1        1002       Abed     Nadir  123/643/9775   \n",
       "2        1003     Walter    /White    7066950392   \n",
       "3        1004     Dwight   Schrute  123-543-2345   \n",
       "4        1005        Jon      Snow  876|678|3469   \n",
       "\n",
       "                                 Address Paying Customer Do_Not_Contact  \\\n",
       "0                  123 Shire Lane, Shire             Yes             No   \n",
       "1                    93 West Main Street              No            Yes   \n",
       "2                     298 Drugs Driveway               N            NaN   \n",
       "3  980 Paper Avenue, Pennsylvania, 18503             Yes              Y   \n",
       "4                       123 Dragons Road               Y             No   \n",
       "\n",
       "   Not_Useful_Column  \n",
       "0               True  \n",
       "1              False  \n",
       "2               True  \n",
       "3               True  \n",
       "4               True  "
      ]
     },
     "execution_count": 278,
     "metadata": {},
     "output_type": "execute_result"
    }
   ],
   "source": [
    "df.head()"
   ]
  },
  {
   "cell_type": "code",
   "execution_count": 279,
   "id": "04cd1d81",
   "metadata": {},
   "outputs": [],
   "source": [
    "df.drop(columns=['Not_Useful_Column'], inplace=True)"
   ]
  },
  {
   "cell_type": "code",
   "execution_count": 280,
   "id": "7c0dd37f",
   "metadata": {},
   "outputs": [
    {
     "data": {
      "text/plain": [
       "CustomerID          int64\n",
       "First_Name         object\n",
       "Last_Name          object\n",
       "Phone_Number       object\n",
       "Address            object\n",
       "Paying Customer    object\n",
       "Do_Not_Contact     object\n",
       "dtype: object"
      ]
     },
     "execution_count": 280,
     "metadata": {},
     "output_type": "execute_result"
    }
   ],
   "source": [
    "df.dtypes"
   ]
  },
  {
   "cell_type": "code",
   "execution_count": 281,
   "id": "11c1c5a0",
   "metadata": {},
   "outputs": [
    {
     "name": "stdout",
     "output_type": "stream",
     "text": [
      "string\n"
     ]
    }
   ],
   "source": [
    "df['CustomerID'] = df['CustomerID'].astype('string')\n",
    "print(df['CustomerID'].dtypes)"
   ]
  },
  {
   "cell_type": "code",
   "execution_count": 282,
   "id": "35ddc6f8",
   "metadata": {},
   "outputs": [
    {
     "data": {
      "text/plain": [
       "Index(['CustomerID', 'First_Name', 'Last_Name', 'Phone_Number', 'Address',\n",
       "       'Paying Customer', 'Do_Not_Contact'],\n",
       "      dtype='object')"
      ]
     },
     "execution_count": 282,
     "metadata": {},
     "output_type": "execute_result"
    }
   ],
   "source": [
    "df.columns"
   ]
  },
  {
   "cell_type": "code",
   "execution_count": 283,
   "id": "537fc13e",
   "metadata": {},
   "outputs": [],
   "source": [
    "df.columns = df.columns.str.lower().str.replace(' ', '_')"
   ]
  },
  {
   "cell_type": "code",
   "execution_count": 284,
   "id": "0025f1a8",
   "metadata": {},
   "outputs": [],
   "source": [
    "df.rename(columns={'customerid': 'customer_id'}, inplace=True)"
   ]
  },
  {
   "cell_type": "code",
   "execution_count": 285,
   "id": "40f72b40",
   "metadata": {},
   "outputs": [
    {
     "data": {
      "text/plain": [
       "Index(['customer_id', 'first_name', 'last_name', 'phone_number', 'address',\n",
       "       'paying_customer', 'do_not_contact'],\n",
       "      dtype='object')"
      ]
     },
     "execution_count": 285,
     "metadata": {},
     "output_type": "execute_result"
    }
   ],
   "source": [
    "df.columns"
   ]
  },
  {
   "cell_type": "markdown",
   "id": "c28aca99",
   "metadata": {},
   "source": [
    "##### **customer_id**"
   ]
  },
  {
   "cell_type": "code",
   "execution_count": 286,
   "id": "e49e2d18",
   "metadata": {},
   "outputs": [
    {
     "name": "stdout",
     "output_type": "stream",
     "text": [
      "\n",
      "Unique count: 20\n",
      "\n",
      "Unique values:\n",
      " <StringArray>\n",
      "['1001', '1002', '1003', '1004', '1005', '1006', '1007', '1008', '1009',\n",
      " '1010', '1011', '1012', '1013', '1014', '1015', '1016', '1017', '1018',\n",
      " '1019', '1020']\n",
      "Length: 20, dtype: string\n"
     ]
    }
   ],
   "source": [
    "print(f\"\\nUnique count: {df['customer_id'].nunique()}\\n\")\n",
    "print(f\"Unique values:\\n {df['customer_id'].unique()}\")"
   ]
  },
  {
   "cell_type": "markdown",
   "id": "c9826804",
   "metadata": {},
   "source": [
    "##### **first_name**"
   ]
  },
  {
   "cell_type": "code",
   "execution_count": 287,
   "id": "6818fd15",
   "metadata": {},
   "outputs": [
    {
     "data": {
      "text/plain": [
       "array(['Frodo', 'Abed', 'Walter', 'Dwight', 'Jon', 'Ron', 'Jeff',\n",
       "       'Sherlock', 'Gandalf', 'Peter', 'Samwise', 'Harry', 'Don',\n",
       "       'Leslie', 'Toby', 'Michael ', 'Clark', 'Creed', 'Anakin'],\n",
       "      dtype=object)"
      ]
     },
     "execution_count": 287,
     "metadata": {},
     "output_type": "execute_result"
    }
   ],
   "source": [
    "df['first_name'].unique()"
   ]
  },
  {
   "cell_type": "code",
   "execution_count": 288,
   "id": "d6689b87",
   "metadata": {},
   "outputs": [
    {
     "data": {
      "text/plain": [
       "19"
      ]
     },
     "execution_count": 288,
     "metadata": {},
     "output_type": "execute_result"
    }
   ],
   "source": [
    "df['first_name'].nunique()"
   ]
  },
  {
   "cell_type": "markdown",
   "id": "e4e3c496",
   "metadata": {},
   "source": [
    "##### **last_name**"
   ]
  },
  {
   "cell_type": "code",
   "execution_count": 289,
   "id": "22fe6bc1",
   "metadata": {},
   "outputs": [
    {
     "data": {
      "text/plain": [
       "array(['Baggins', 'Nadir', '/White', 'Schrute', 'Snow', 'Swanson',\n",
       "       '  Winger', 'Holmes', nan, 'Parker', 'Gamgee', '...Potter',\n",
       "       'Draper', 'Knope', 'Flenderson_', 'Weasley', 'Scott', 'Kent',\n",
       "       'Braton', 'Skywalker'], dtype=object)"
      ]
     },
     "execution_count": 289,
     "metadata": {},
     "output_type": "execute_result"
    }
   ],
   "source": [
    "df['last_name'].unique()"
   ]
  },
  {
   "cell_type": "code",
   "execution_count": 290,
   "id": "6ecd2619",
   "metadata": {},
   "outputs": [
    {
     "data": {
      "text/plain": [
       "2          /White\n",
       "6          Winger\n",
       "11      ...Potter\n",
       "14    Flenderson_\n",
       "Name: last_name, dtype: object"
      ]
     },
     "execution_count": 290,
     "metadata": {},
     "output_type": "execute_result"
    }
   ],
   "source": [
    "df[df['last_name'].astype(str).str.contains(r'[^a-zA-Z]')]['last_name']"
   ]
  },
  {
   "cell_type": "code",
   "execution_count": 291,
   "id": "7ea56d3f",
   "metadata": {},
   "outputs": [
    {
     "data": {
      "text/plain": [
       "2          White\n",
       "6         Winger\n",
       "11        Potter\n",
       "14    Flenderson\n",
       "Name: last_name, dtype: object"
      ]
     },
     "execution_count": 291,
     "metadata": {},
     "output_type": "execute_result"
    }
   ],
   "source": [
    "df[df['last_name'].astype(str).str.contains(r'[^a-zA-Z]')]['last_name'].str.strip('123._/')"
   ]
  },
  {
   "cell_type": "code",
   "execution_count": 292,
   "id": "422fdc24",
   "metadata": {},
   "outputs": [],
   "source": [
    "df['last_name'] = df['last_name'].str.strip('123._/ ')"
   ]
  },
  {
   "cell_type": "code",
   "execution_count": 293,
   "id": "5746697e",
   "metadata": {},
   "outputs": [
    {
     "data": {
      "text/plain": [
       "Series([], Name: last_name, dtype: object)"
      ]
     },
     "execution_count": 293,
     "metadata": {},
     "output_type": "execute_result"
    }
   ],
   "source": [
    "df[df['last_name'].astype(str).str.contains(r'[^a-zA-Z]')]['last_name'].str.strip('123._/')"
   ]
  },
  {
   "cell_type": "code",
   "execution_count": 294,
   "id": "4dc35150",
   "metadata": {},
   "outputs": [
    {
     "data": {
      "text/plain": [
       "array(['Baggins', 'Nadir', 'White', 'Schrute', 'Snow', 'Swanson',\n",
       "       'Winger', 'Holmes', nan, 'Parker', 'Gamgee', 'Potter', 'Draper',\n",
       "       'Knope', 'Flenderson', 'Weasley', 'Scott', 'Kent', 'Braton',\n",
       "       'Skywalker'], dtype=object)"
      ]
     },
     "execution_count": 294,
     "metadata": {},
     "output_type": "execute_result"
    }
   ],
   "source": [
    "df['last_name'].unique()"
   ]
  },
  {
   "cell_type": "markdown",
   "id": "5dda6f5d",
   "metadata": {},
   "source": [
    "##### **phone_number**"
   ]
  },
  {
   "cell_type": "code",
   "execution_count": 295,
   "id": "bf0ac1cd",
   "metadata": {},
   "outputs": [
    {
     "data": {
      "text/plain": [
       "0     123-545-5421\n",
       "1     123/643/9775\n",
       "3     123-543-2345\n",
       "4     876|678|3469\n",
       "5     304-762-2467\n",
       "6              NaN\n",
       "7     876|678|3469\n",
       "8              N/a\n",
       "9     123-545-5421\n",
       "10             NaN\n",
       "12    123-543-2345\n",
       "13    876|678|3469\n",
       "14    304-762-2467\n",
       "15    123-545-5421\n",
       "16    123/643/9775\n",
       "18             N/a\n",
       "19    876|678|3469\n",
       "Name: phone_number, dtype: object"
      ]
     },
     "execution_count": 295,
     "metadata": {},
     "output_type": "execute_result"
    }
   ],
   "source": [
    "df[df['phone_number'].astype(str).str.contains(r'[^0-9]')]['phone_number']"
   ]
  },
  {
   "cell_type": "code",
   "execution_count": 296,
   "id": "f80b9239",
   "metadata": {},
   "outputs": [
    {
     "data": {
      "text/plain": [
       "0     1235455421\n",
       "1     1236439775\n",
       "2     7066950392\n",
       "3     1235432345\n",
       "4     8766783469\n",
       "5     3047622467\n",
       "6           <NA>\n",
       "7     8766783469\n",
       "8           <NA>\n",
       "9     1235455421\n",
       "10          <NA>\n",
       "11    7066950392\n",
       "12    1235432345\n",
       "13    8766783469\n",
       "14    3047622467\n",
       "15    1235455421\n",
       "16    1236439775\n",
       "17    7066950392\n",
       "18          <NA>\n",
       "19    8766783469\n",
       "Name: phone_number, dtype: object"
      ]
     },
     "execution_count": 296,
     "metadata": {},
     "output_type": "execute_result"
    }
   ],
   "source": [
    "df['phone_number'] = df['phone_number'].replace(r'[^0-9]', '', regex= True)\n",
    "df['phone_number'] = df['phone_number'].replace(['', np.nan], pd.NA)\n",
    "df['phone_number']"
   ]
  },
  {
   "cell_type": "code",
   "execution_count": 297,
   "id": "48ebb85f",
   "metadata": {},
   "outputs": [
    {
     "data": {
      "text/plain": [
       "4"
      ]
     },
     "execution_count": 297,
     "metadata": {},
     "output_type": "execute_result"
    }
   ],
   "source": [
    "df['phone_number'].astype(\"string\").isna().sum()"
   ]
  },
  {
   "cell_type": "code",
   "execution_count": 298,
   "id": "abd9ba76",
   "metadata": {},
   "outputs": [],
   "source": [
    "df['phone_number'] = df['phone_number'].astype(\"string\").apply(lambda x: x[0:3] + '-' + x[3:6] + '-' + x[6:] if pd.notna(x) else pd.NA)"
   ]
  },
  {
   "cell_type": "code",
   "execution_count": 299,
   "id": "3cf988ed",
   "metadata": {},
   "outputs": [
    {
     "data": {
      "text/plain": [
       "11    706-695-0392\n",
       "10            <NA>\n",
       "0     123-545-5421\n",
       "16    123-643-9775\n",
       "7     876-678-3469\n",
       "Name: phone_number, dtype: object"
      ]
     },
     "execution_count": 299,
     "metadata": {},
     "output_type": "execute_result"
    }
   ],
   "source": [
    "df['phone_number'].sample(5)"
   ]
  },
  {
   "cell_type": "markdown",
   "id": "04b53687",
   "metadata": {},
   "source": [
    "##### **address**"
   ]
  },
  {
   "cell_type": "code",
   "execution_count": 300,
   "id": "dd28ea0e",
   "metadata": {},
   "outputs": [
    {
     "data": {
      "text/plain": [
       "array(['123 Shire Lane, Shire', '93 West Main Street',\n",
       "       '298 Drugs Driveway', '980 Paper Avenue, Pennsylvania, 18503',\n",
       "       '123 Dragons Road', '768 City Parkway', '1209 South Street',\n",
       "       '98 Clue Drive', '123 Middle Earth', '25th Main Street, New York',\n",
       "       '612 Shire Lane, Shire', '2394 Hogwarts Avenue',\n",
       "       '2039 Main Street', '343 City Parkway', '214 HR Avenue',\n",
       "       '2395 Hogwarts Avenue', '121 Paper Avenue, Pennsylvania',\n",
       "       '3498 Super Lane', 'N/a', '910 Tatooine Road, Tatooine'],\n",
       "      dtype=object)"
      ]
     },
     "execution_count": 300,
     "metadata": {},
     "output_type": "execute_result"
    }
   ],
   "source": [
    "df['address'].unique()"
   ]
  },
  {
   "cell_type": "code",
   "execution_count": 301,
   "id": "e4cba0a6",
   "metadata": {},
   "outputs": [
    {
     "data": {
      "text/plain": [
       "array(['123 Shire Lane, Shire', '93 West Main Street',\n",
       "       '298 Drugs Driveway', '980 Paper Avenue, Pennsylvania, 18503',\n",
       "       '123 Dragons Road', '768 City Parkway', '1209 South Street',\n",
       "       '98 Clue Drive', '123 Middle Earth', '25th Main Street, New York',\n",
       "       '612 Shire Lane, Shire', '2394 Hogwarts Avenue',\n",
       "       '2039 Main Street', '343 City Parkway', '214 HR Avenue',\n",
       "       '2395 Hogwarts Avenue', '121 Paper Avenue, Pennsylvania',\n",
       "       '3498 Super Lane', <NA>, '910 Tatooine Road, Tatooine'],\n",
       "      dtype=object)"
      ]
     },
     "execution_count": 301,
     "metadata": {},
     "output_type": "execute_result"
    }
   ],
   "source": [
    "df['address'] = df['address'].replace('N/a', pd.NA)\n",
    "df['address'].unique()"
   ]
  },
  {
   "cell_type": "code",
   "execution_count": 302,
   "id": "48e2ca93",
   "metadata": {},
   "outputs": [
    {
     "data": {
      "text/html": [
       "<div>\n",
       "<style scoped>\n",
       "    .dataframe tbody tr th:only-of-type {\n",
       "        vertical-align: middle;\n",
       "    }\n",
       "\n",
       "    .dataframe tbody tr th {\n",
       "        vertical-align: top;\n",
       "    }\n",
       "\n",
       "    .dataframe thead th {\n",
       "        text-align: right;\n",
       "    }\n",
       "</style>\n",
       "<table border=\"1\" class=\"dataframe\">\n",
       "  <thead>\n",
       "    <tr style=\"text-align: right;\">\n",
       "      <th></th>\n",
       "      <th>customer_id</th>\n",
       "      <th>first_name</th>\n",
       "      <th>last_name</th>\n",
       "      <th>phone_number</th>\n",
       "      <th>paying_customer</th>\n",
       "      <th>do_not_contact</th>\n",
       "      <th>street_address</th>\n",
       "      <th>state</th>\n",
       "      <th>zip_code</th>\n",
       "    </tr>\n",
       "  </thead>\n",
       "  <tbody>\n",
       "    <tr>\n",
       "      <th>0</th>\n",
       "      <td>1001</td>\n",
       "      <td>Frodo</td>\n",
       "      <td>Baggins</td>\n",
       "      <td>123-545-5421</td>\n",
       "      <td>Yes</td>\n",
       "      <td>No</td>\n",
       "      <td>123 Shire Lane</td>\n",
       "      <td>Shire</td>\n",
       "      <td>None</td>\n",
       "    </tr>\n",
       "    <tr>\n",
       "      <th>1</th>\n",
       "      <td>1002</td>\n",
       "      <td>Abed</td>\n",
       "      <td>Nadir</td>\n",
       "      <td>123-643-9775</td>\n",
       "      <td>No</td>\n",
       "      <td>Yes</td>\n",
       "      <td>93 West Main Street</td>\n",
       "      <td>None</td>\n",
       "      <td>None</td>\n",
       "    </tr>\n",
       "    <tr>\n",
       "      <th>2</th>\n",
       "      <td>1003</td>\n",
       "      <td>Walter</td>\n",
       "      <td>White</td>\n",
       "      <td>706-695-0392</td>\n",
       "      <td>N</td>\n",
       "      <td>NaN</td>\n",
       "      <td>298 Drugs Driveway</td>\n",
       "      <td>None</td>\n",
       "      <td>None</td>\n",
       "    </tr>\n",
       "    <tr>\n",
       "      <th>3</th>\n",
       "      <td>1004</td>\n",
       "      <td>Dwight</td>\n",
       "      <td>Schrute</td>\n",
       "      <td>123-543-2345</td>\n",
       "      <td>Yes</td>\n",
       "      <td>Y</td>\n",
       "      <td>980 Paper Avenue</td>\n",
       "      <td>Pennsylvania</td>\n",
       "      <td>18503</td>\n",
       "    </tr>\n",
       "    <tr>\n",
       "      <th>4</th>\n",
       "      <td>1005</td>\n",
       "      <td>Jon</td>\n",
       "      <td>Snow</td>\n",
       "      <td>876-678-3469</td>\n",
       "      <td>Y</td>\n",
       "      <td>No</td>\n",
       "      <td>123 Dragons Road</td>\n",
       "      <td>None</td>\n",
       "      <td>None</td>\n",
       "    </tr>\n",
       "  </tbody>\n",
       "</table>\n",
       "</div>"
      ],
      "text/plain": [
       "  customer_id first_name last_name  phone_number paying_customer  \\\n",
       "0        1001      Frodo   Baggins  123-545-5421             Yes   \n",
       "1        1002       Abed     Nadir  123-643-9775              No   \n",
       "2        1003     Walter     White  706-695-0392               N   \n",
       "3        1004     Dwight   Schrute  123-543-2345             Yes   \n",
       "4        1005        Jon      Snow  876-678-3469               Y   \n",
       "\n",
       "  do_not_contact       street_address          state zip_code  \n",
       "0             No       123 Shire Lane          Shire     None  \n",
       "1            Yes  93 West Main Street           None     None  \n",
       "2            NaN   298 Drugs Driveway           None     None  \n",
       "3              Y     980 Paper Avenue   Pennsylvania    18503  \n",
       "4             No     123 Dragons Road           None     None  "
      ]
     },
     "execution_count": 302,
     "metadata": {},
     "output_type": "execute_result"
    }
   ],
   "source": [
    "df[['street_address', 'state', 'zip_code']] = df['address'].str.split(',', n=2, expand=True)\n",
    "df.drop(columns= 'address', inplace=True)\n",
    "df.head()"
   ]
  },
  {
   "cell_type": "code",
   "execution_count": 303,
   "id": "e83b5e8f",
   "metadata": {},
   "outputs": [],
   "source": [
    "df[['state', 'zip_code']] = df[['state', 'zip_code']].replace([None, np.nan], pd.NA)"
   ]
  },
  {
   "cell_type": "markdown",
   "id": "baeea6d5",
   "metadata": {},
   "source": [
    "##### **paying_customer**"
   ]
  },
  {
   "cell_type": "code",
   "execution_count": 304,
   "id": "2136976d",
   "metadata": {},
   "outputs": [
    {
     "data": {
      "text/plain": [
       "array(['Yes', 'No', 'N', 'Y', 'N/a'], dtype=object)"
      ]
     },
     "execution_count": 304,
     "metadata": {},
     "output_type": "execute_result"
    }
   ],
   "source": [
    "df['paying_customer'].unique()"
   ]
  },
  {
   "cell_type": "code",
   "execution_count": 305,
   "id": "62d2d19a",
   "metadata": {},
   "outputs": [
    {
     "data": {
      "text/plain": [
       "array(['Yes', 'No', <NA>], dtype=object)"
      ]
     },
     "execution_count": 305,
     "metadata": {},
     "output_type": "execute_result"
    }
   ],
   "source": [
    "df['paying_customer'] = df['paying_customer'].replace({'Y': 'Yes', 'N': 'No', 'N/a': pd.NA})\n",
    "df['paying_customer'].unique()"
   ]
  },
  {
   "cell_type": "markdown",
   "id": "1f3d6443",
   "metadata": {},
   "source": [
    "##### **do_not_contact**"
   ]
  },
  {
   "cell_type": "code",
   "execution_count": 306,
   "id": "501f8f53",
   "metadata": {},
   "outputs": [
    {
     "data": {
      "text/plain": [
       "array(['No', 'Yes', nan, 'Y', 'N'], dtype=object)"
      ]
     },
     "execution_count": 306,
     "metadata": {},
     "output_type": "execute_result"
    }
   ],
   "source": [
    "df['do_not_contact'].unique()"
   ]
  },
  {
   "cell_type": "code",
   "execution_count": 307,
   "id": "4d9691c3",
   "metadata": {},
   "outputs": [
    {
     "data": {
      "text/plain": [
       "array(['No', 'Yes', <NA>], dtype=object)"
      ]
     },
     "execution_count": 307,
     "metadata": {},
     "output_type": "execute_result"
    }
   ],
   "source": [
    "df['do_not_contact'].replace({'Y': 'Yes', 'N': 'No', np.nan: pd.NA}).unique()"
   ]
  },
  {
   "cell_type": "code",
   "execution_count": 308,
   "id": "0e8b4321",
   "metadata": {},
   "outputs": [
    {
     "data": {
      "text/plain": [
       "array(['No', 'Yes', <NA>], dtype=object)"
      ]
     },
     "execution_count": 308,
     "metadata": {},
     "output_type": "execute_result"
    }
   ],
   "source": [
    "df['do_not_contact'] = df['do_not_contact'].replace({'Y': 'Yes', 'N': 'No', np.nan: pd.NA})\n",
    "df['do_not_contact'].unique()"
   ]
  },
  {
   "cell_type": "markdown",
   "id": "7a99544b",
   "metadata": {},
   "source": [
    "##### **Cleaned Data**"
   ]
  },
  {
   "cell_type": "code",
   "execution_count": 309,
   "id": "c21c2473",
   "metadata": {},
   "outputs": [
    {
     "data": {
      "text/html": [
       "<div>\n",
       "<style scoped>\n",
       "    .dataframe tbody tr th:only-of-type {\n",
       "        vertical-align: middle;\n",
       "    }\n",
       "\n",
       "    .dataframe tbody tr th {\n",
       "        vertical-align: top;\n",
       "    }\n",
       "\n",
       "    .dataframe thead th {\n",
       "        text-align: right;\n",
       "    }\n",
       "</style>\n",
       "<table border=\"1\" class=\"dataframe\">\n",
       "  <thead>\n",
       "    <tr style=\"text-align: right;\">\n",
       "      <th></th>\n",
       "      <th>customer_id</th>\n",
       "      <th>first_name</th>\n",
       "      <th>last_name</th>\n",
       "      <th>phone_number</th>\n",
       "      <th>paying_customer</th>\n",
       "      <th>do_not_contact</th>\n",
       "      <th>street_address</th>\n",
       "      <th>state</th>\n",
       "      <th>zip_code</th>\n",
       "    </tr>\n",
       "  </thead>\n",
       "  <tbody>\n",
       "    <tr>\n",
       "      <th>0</th>\n",
       "      <td>1001</td>\n",
       "      <td>Frodo</td>\n",
       "      <td>Baggins</td>\n",
       "      <td>123-545-5421</td>\n",
       "      <td>Yes</td>\n",
       "      <td>No</td>\n",
       "      <td>123 Shire Lane</td>\n",
       "      <td>Shire</td>\n",
       "      <td>&lt;NA&gt;</td>\n",
       "    </tr>\n",
       "    <tr>\n",
       "      <th>1</th>\n",
       "      <td>1002</td>\n",
       "      <td>Abed</td>\n",
       "      <td>Nadir</td>\n",
       "      <td>123-643-9775</td>\n",
       "      <td>No</td>\n",
       "      <td>Yes</td>\n",
       "      <td>93 West Main Street</td>\n",
       "      <td>&lt;NA&gt;</td>\n",
       "      <td>&lt;NA&gt;</td>\n",
       "    </tr>\n",
       "    <tr>\n",
       "      <th>2</th>\n",
       "      <td>1003</td>\n",
       "      <td>Walter</td>\n",
       "      <td>White</td>\n",
       "      <td>706-695-0392</td>\n",
       "      <td>No</td>\n",
       "      <td>&lt;NA&gt;</td>\n",
       "      <td>298 Drugs Driveway</td>\n",
       "      <td>&lt;NA&gt;</td>\n",
       "      <td>&lt;NA&gt;</td>\n",
       "    </tr>\n",
       "    <tr>\n",
       "      <th>3</th>\n",
       "      <td>1004</td>\n",
       "      <td>Dwight</td>\n",
       "      <td>Schrute</td>\n",
       "      <td>123-543-2345</td>\n",
       "      <td>Yes</td>\n",
       "      <td>Yes</td>\n",
       "      <td>980 Paper Avenue</td>\n",
       "      <td>Pennsylvania</td>\n",
       "      <td>18503</td>\n",
       "    </tr>\n",
       "    <tr>\n",
       "      <th>4</th>\n",
       "      <td>1005</td>\n",
       "      <td>Jon</td>\n",
       "      <td>Snow</td>\n",
       "      <td>876-678-3469</td>\n",
       "      <td>Yes</td>\n",
       "      <td>No</td>\n",
       "      <td>123 Dragons Road</td>\n",
       "      <td>&lt;NA&gt;</td>\n",
       "      <td>&lt;NA&gt;</td>\n",
       "    </tr>\n",
       "  </tbody>\n",
       "</table>\n",
       "</div>"
      ],
      "text/plain": [
       "  customer_id first_name last_name  phone_number paying_customer  \\\n",
       "0        1001      Frodo   Baggins  123-545-5421             Yes   \n",
       "1        1002       Abed     Nadir  123-643-9775              No   \n",
       "2        1003     Walter     White  706-695-0392              No   \n",
       "3        1004     Dwight   Schrute  123-543-2345             Yes   \n",
       "4        1005        Jon      Snow  876-678-3469             Yes   \n",
       "\n",
       "  do_not_contact       street_address          state zip_code  \n",
       "0             No       123 Shire Lane          Shire     <NA>  \n",
       "1            Yes  93 West Main Street           <NA>     <NA>  \n",
       "2           <NA>   298 Drugs Driveway           <NA>     <NA>  \n",
       "3            Yes     980 Paper Avenue   Pennsylvania    18503  \n",
       "4             No     123 Dragons Road           <NA>     <NA>  "
      ]
     },
     "execution_count": 309,
     "metadata": {},
     "output_type": "execute_result"
    }
   ],
   "source": [
    "df.head()"
   ]
  }
 ],
 "metadata": {
  "kernelspec": {
   "display_name": "base",
   "language": "python",
   "name": "python3"
  },
  "language_info": {
   "codemirror_mode": {
    "name": "ipython",
    "version": 3
   },
   "file_extension": ".py",
   "mimetype": "text/x-python",
   "name": "python",
   "nbconvert_exporter": "python",
   "pygments_lexer": "ipython3",
   "version": "3.12.7"
  }
 },
 "nbformat": 4,
 "nbformat_minor": 5
}
